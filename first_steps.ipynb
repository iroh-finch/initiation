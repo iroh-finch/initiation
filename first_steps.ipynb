{
 "cells": [
  {
   "cell_type": "code",
   "execution_count": 1,
   "metadata": {},
   "outputs": [
    {
     "name": "stdout",
     "output_type": "stream",
     "text": [
      "This will be the first commit code of mine\n"
     ]
    }
   ],
   "source": [
    "print(\"This will be the first commit code of mine\")"
   ]
  },
  {
   "cell_type": "markdown",
   "metadata": {},
   "source": [
    "Of course there will be some calculations in a Python file."
   ]
  },
  {
   "cell_type": "code",
   "execution_count": 2,
   "metadata": {},
   "outputs": [],
   "source": [
    "b = 0.25 * 746 \n",
    "a = (b ** 2) * 0.14"
   ]
  },
  {
   "cell_type": "code",
   "execution_count": 3,
   "metadata": {},
   "outputs": [
    {
     "name": "stdout",
     "output_type": "stream",
     "text": [
      "4869.515 186.5\n"
     ]
    }
   ],
   "source": [
    "print(a,b)"
   ]
  },
  {
   "cell_type": "code",
   "execution_count": 5,
   "metadata": {},
   "outputs": [
    {
     "name": "stdout",
     "output_type": "stream",
     "text": [
      "muhalefet kazandı\n"
     ]
    }
   ],
   "source": [
    "a  = 0.33\n",
    "b = 0.37\n",
    "c = 0.2\n",
    "d = 1 - (a + b + c)\n",
    "def fonksiyonel(a=a,b=b,c=c,d=c):\n",
    "    if a > b:\n",
    "        print(\"tayyip kazandı\")\n",
    "    elif (b > a) & (b > c) & (b > d):\n",
    "        print(\"muhalefet kazandı\")\n",
    "fonksiyonel(a,b,c,d)"
   ]
  }
 ],
 "metadata": {
  "kernelspec": {
   "display_name": "Python 3",
   "language": "python",
   "name": "python3"
  },
  "language_info": {
   "codemirror_mode": {
    "name": "ipython",
    "version": 3
   },
   "file_extension": ".py",
   "mimetype": "text/x-python",
   "name": "python",
   "nbconvert_exporter": "python",
   "pygments_lexer": "ipython3",
   "version": "3.11.1"
  }
 },
 "nbformat": 4,
 "nbformat_minor": 2
}
